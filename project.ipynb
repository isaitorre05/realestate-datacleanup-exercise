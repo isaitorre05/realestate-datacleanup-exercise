{
 "cells": [
  {
   "attachments": {},
   "cell_type": "markdown",
   "id": "innocent-university",
   "metadata": {},
   "source": [
    "# Real Estate Clean up\n",
    "\n",
    "This is a real dataset and it was downloaded using web scraping techniques. The data contains registers from fotocasa which is one of the most popular websites of real estate in Spain. Please, do not do this (web scraping) unless it is for academic purposes.\n",
    "\n",
    "The dataset was downloaded a few years ago by Henry Navarro and In no case were economic returns obtained from it.\n",
    "\n",
    "It contains thousands of data from real houses published on the web www.fotocasa.com. Your goal is to extract as much information as possible with the knowledge you have so far about data science, for example what is the most expensive house in the entire dataset?\n",
    "\n",
    "Let's start with precisely that question... Good luck!"
   ]
  },
  {
   "attachments": {},
   "cell_type": "markdown",
   "id": "multiple-glass",
   "metadata": {},
   "source": [
    "#### Exercise 00. Read the dataset assets/real_estate.csv and try to visualize the table (★☆☆)"
   ]
  },
  {
   "attachments": {},
   "cell_type": "markdown",
   "id": "latin-guest",
   "metadata": {},
   "source": [
    "#### Exercise 01. Which is the most expensive house in the dataset? (★☆☆)\n",
    "\n",
    "Print the address and the price of the selected house. For example:\n",
    "\n",
    "`The house with address General Street Nº5 is the most expensive and its price is 5000000 USD`"
   ]
  },
  {
   "cell_type": "code",
   "execution_count": 3,
   "id": "developing-optimum",
   "metadata": {},
   "outputs": [
    {
     "name": "stdout",
     "output_type": "stream",
     "text": [
      "The house with address El Escorial is the most expensive and its price is 8500000\n"
     ]
    }
   ],
   "source": [
    "# TODO\n",
    "import pandas as pd\n",
    "\n",
    "df = pd.read_csv('assets/real_estate.csv', sep = ';')\n",
    "maxpriced = df['price'].idxmax()\n",
    "adress = df.iloc[maxpriced]\n",
    "name = adress['address']\n",
    "print(f\"The house with address {name} is the most expensive and its price is {df['price'].max()}\")"
   ]
  },
  {
   "attachments": {},
   "cell_type": "markdown",
   "id": "lesser-cosmetic",
   "metadata": {},
   "source": [
    "#### Exercise 02. Which is cheapest house in the dataset? (★☆☆)\n",
    "\n",
    "Print the address and the price of the selected house. For example:\n",
    "\n",
    "`The house with address Concrete Street Nº1 is the cheapest and its price is 12000 USD`"
   ]
  },
  {
   "cell_type": "code",
   "execution_count": 3,
   "id": "lovely-oasis",
   "metadata": {},
   "outputs": [
    {
     "name": "stdout",
     "output_type": "stream",
     "text": [
      "The house with address Madrid Capital is the cheapest and its price is $0 USD\n"
     ]
    }
   ],
   "source": [
    "# TODO\n",
    "print(f\"The house with address{df['address'].min()} is the cheapest and its price is ${df['price'].min()} USD\")"
   ]
  },
  {
   "attachments": {},
   "cell_type": "markdown",
   "id": "compliant-fellowship",
   "metadata": {},
   "source": [
    "#### Exercise 03. Which is the biggest and the smallest house in the dataset? (★☆☆)\n",
    "\n",
    "Print both the address and the surface of the selected houses. For example:\n",
    "\n",
    "`The bigger house is located on Yukka Street Nº10 and its surface is 5000 meters`\n",
    "\n",
    "`The smaller house is located on County Road 1 N and its surface is 200 meters`"
   ]
  },
  {
   "cell_type": "code",
   "execution_count": 4,
   "id": "every-tiffany",
   "metadata": {},
   "outputs": [
    {
     "name": "stdout",
     "output_type": "stream",
     "text": [
      "The bigger house is located on Sevilla la Nueva and its surface is 249000.0 meters\n",
      "The smaller house is located on Calle Amparo,  Madrid Capital and its surface is 15.0 meters\n"
     ]
    }
   ],
   "source": [
    "# TODO\n",
    "max_surface = df['surface'].idxmax()\n",
    "min_surface = df['surface'].idxmin()\n",
    "max_address = df.loc[max_surface, 'address']\n",
    "min_address = df.loc[min_surface, 'address']\n",
    "print(f\"The bigger house is located on {max_address} and its surface is {df['surface'].max()} meters\")\n",
    "print(f\"The smaller house is located on {min_address} and its surface is {df['surface'].min()} meters\")\n",
    "\n"
   ]
  },
  {
   "attachments": {},
   "cell_type": "markdown",
   "id": "danish-spirit",
   "metadata": {},
   "source": [
    "#### Exercise 04. How many populations (level5 column) the dataset contains? (★☆☆)\n",
    "\n",
    "Print the name of the populations with comma as separator. For example:\n",
    "\n",
    "`> print(populations)`\n",
    "\n",
    "`population1, population2, population3,...`"
   ]
  },
  {
   "cell_type": "code",
   "execution_count": 6,
   "id": "exciting-accreditation",
   "metadata": {},
   "outputs": [
    {
     "data": {
      "text/plain": [
       "array(['Arganda del Rey', 'Fuenlabrada', 'Boadilla del Monte',\n",
       "       'Las Rozas de Madrid', ' Madrid Capital', 'Villaviciosa de Odón',\n",
       "       'Pinto', 'Valdemoro', 'Navalcarnero', 'Pozuelo de Alarcón',\n",
       "       'Torrejón de Ardoz', 'Navalagamella', 'San Sebastián de los Reyes',\n",
       "       'Rivas-vaciamadrid', 'Alpedrete', 'Móstoles',\n",
       "       'San Fernando de Henares', 'Coslada', 'Becerril de la Sierra',\n",
       "       'Alcalá de Henares', 'Chinchón', 'Parla', 'Alcorcón',\n",
       "       'El Escorial', 'Leganés', 'Pedrezuela', 'Majadahonda',\n",
       "       'Villanueva de la Cañada', 'Villanueva del Pardillo',\n",
       "       'Torrelodones', 'Moralzarzal', 'Mejorada del Campo', 'Aranjuez',\n",
       "       'Corpa', 'Getafe', 'Velilla de San Antonio', 'Sevilla la Nueva',\n",
       "       'San Martín de la Vega', 'Villalbilla', 'Collado Villalba',\n",
       "       'Alcobendas', 'El Molar (Madrid)', 'Moraleja de Enmedio', 'Algete',\n",
       "       'Campo Real', 'Torrejón de la Calzada', 'Colmenar Viejo',\n",
       "       'Valdemorillo', 'Fuente El Saz de Jarama', 'Tres Cantos',\n",
       "       'Arroyomolinos (Madrid)', 'Griñón', 'Paracuellos de Jarama',\n",
       "       'Guadarrama', 'Titulcia', 'Galapagar', 'Collado Mediano',\n",
       "       'Los Molinos', 'San Lorenzo de El Escorial', 'Loeches',\n",
       "       'San Martín de Valdeiglesias', 'Navas del Rey', 'Bustarviejo',\n",
       "       'Manzanares El Real', 'Carabaña', 'Casarrubuelos', 'Cercedilla',\n",
       "       'Fresnedillas de la Oliva', 'Valdemaqueda', 'Robledo de Chavela',\n",
       "       'Miraflores de la Sierra', 'Humanes de Madrid',\n",
       "       'Valdetorres de Jarama', 'San Agustín del Guadalix',\n",
       "       'Ciempozuelos', 'Camarma de Esteruelas', 'Torres de la Alameda',\n",
       "       'Talamanca de Jarama', 'El Atazar', 'Hoyo de Manzanares',\n",
       "       'El Boalo - Cerceda – Mataelpino', 'El Álamo', 'Valdilecha',\n",
       "       'Valdeolmos-Alalpardo', 'Guadalix de la Sierra',\n",
       "       'Belmonte de Tajo', 'El Vellón', 'Brunete', 'Redueña',\n",
       "       'Morata de Tajuña', 'Tielmes', 'Gargantilla del Lozoya', 'Meco',\n",
       "       'Venturada', 'Quijorna', 'Cenicientos', 'Torrejón de Velasco',\n",
       "       'Navacerrada', 'Santa María de la Alameda', 'Orusco de Tajuña',\n",
       "       'Daganzo de Arriba', 'Villamanta', 'Anchuelo', 'Valdaracete',\n",
       "       'Ajalvir', 'Los Santos de la Humosa', 'Villamanrique de Tajo',\n",
       "       'Colmenar de Oreja', 'Villa del Prado', 'Fuentidueña de Tajo',\n",
       "       'Colmenar del Arroyo', 'Valdelaguna', 'Cubas de la Sagra',\n",
       "       'Valdeavero', 'Aldea del Fresno', 'Ribatejada', 'Torrelaguna',\n",
       "       'Batres', 'Pezuela de las Torres', 'Colmenarejo',\n",
       "       'Serranillos del Valle', 'Cobeña', 'Soto del Real', 'El Berrueco',\n",
       "       'Villanueva de Perales', 'Fresno de Torote - Serracines',\n",
       "       'Pozuelo del Rey', 'Pelayos de la Presa', 'La Cabrera',\n",
       "       'Nuevo Baztán', 'Perales de Tajuña', 'Villaconejos',\n",
       "       'Villarejo de Salvanés', 'Cadalso de los Vidrios', 'Santorcaz',\n",
       "       'Madarcos', 'Garganta de los Montes', 'Puentes Viejas',\n",
       "       'Torremocha de Jarama', 'Valdemanco', 'Braojos',\n",
       "       'Lozoyuela-navas-sieteiglesias', 'Piñuécar-gandullas',\n",
       "       'Valdepiélagos', 'Valverde de Alcalá', 'Villar del Olmo',\n",
       "       'Villamantilla', 'Horcajo de la Sierra', 'Gascones', 'Zarzalejo',\n",
       "       'Villavieja del Lozoya', 'Brea de Tajo', 'Estremera', 'Chapinería',\n",
       "       'Navarredonda', 'Patones', 'Ambite', 'Navalafuente', 'Lozoya',\n",
       "       'Canencia', 'Cabanillas de la Sierra', 'Buitrago del Lozoya',\n",
       "       'Fresno de Torote', 'Robregordo', 'Pinilla del Valle', 'Rascafría',\n",
       "       'La Hiruela', 'Montejo de la Sierra'], dtype=object)"
      ]
     },
     "execution_count": 6,
     "metadata": {},
     "output_type": "execute_result"
    }
   ],
   "source": [
    "# TODO\n",
    "df.loc[:, 'level5'].unique()\n",
    "\n"
   ]
  },
  {
   "attachments": {},
   "cell_type": "markdown",
   "id": "crazy-blame",
   "metadata": {},
   "source": [
    "#### Exercise 05. Does the dataset contain NAs? (★☆☆)\n",
    "\n",
    "Print a boolean value (`true` or `fase`) followed by the rows/cols that contains NAs."
   ]
  },
  {
   "cell_type": "code",
   "execution_count": 10,
   "id": "transparent-poetry",
   "metadata": {},
   "outputs": [
    {
     "data": {
      "text/plain": [
       "Unnamed: 0              0\n",
       "id_realEstates          0\n",
       "isNew                   0\n",
       "realEstate_name        10\n",
       "phone_realEstate      794\n",
       "url_inmueble            0\n",
       "rooms                 353\n",
       "bathrooms             345\n",
       "surface              1250\n",
       "price                   0\n",
       "date                    0\n",
       "description           142\n",
       "address                 0\n",
       "country                 0\n",
       "level1                  0\n",
       "level2                  0\n",
       "level3                  0\n",
       "level4               6643\n",
       "level5                  0\n",
       "level6              14627\n",
       "level7               2277\n",
       "level8               8579\n",
       "upperLevel              0\n",
       "countryId               0\n",
       "level1Id                0\n",
       "level2Id                0\n",
       "level3Id                0\n",
       "level4Id                0\n",
       "level5Id                0\n",
       "level6Id                0\n",
       "level7Id                0\n",
       "level8Id                0\n",
       "accuracy                0\n",
       "latitude                0\n",
       "longitude               0\n",
       "zipCode             15335\n",
       "customZone          15335\n",
       "dtype: int64"
      ]
     },
     "execution_count": 10,
     "metadata": {},
     "output_type": "execute_result"
    }
   ],
   "source": [
    "# TODO\n",
    "df.isna().sum()"
   ]
  },
  {
   "attachments": {},
   "cell_type": "markdown",
   "id": "italic-hydrogen",
   "metadata": {},
   "source": [
    "#### Exercise 06. Delete the NAs of the dataset, if applicable (★★☆)\n",
    "\n",
    "Print a comparison between the dimensions of the original DataFrame versus the DataFrame after the deletions"
   ]
  },
  {
   "cell_type": "code",
   "execution_count": 11,
   "id": "administrative-roads",
   "metadata": {},
   "outputs": [
    {
     "data": {
      "text/html": [
       "<div>\n",
       "<style scoped>\n",
       "    .dataframe tbody tr th:only-of-type {\n",
       "        vertical-align: middle;\n",
       "    }\n",
       "\n",
       "    .dataframe tbody tr th {\n",
       "        vertical-align: top;\n",
       "    }\n",
       "\n",
       "    .dataframe thead th {\n",
       "        text-align: right;\n",
       "    }\n",
       "</style>\n",
       "<table border=\"1\" class=\"dataframe\">\n",
       "  <thead>\n",
       "    <tr style=\"text-align: right;\">\n",
       "      <th></th>\n",
       "      <th>Unnamed: 0</th>\n",
       "      <th>id_realEstates</th>\n",
       "      <th>isNew</th>\n",
       "      <th>realEstate_name</th>\n",
       "      <th>phone_realEstate</th>\n",
       "      <th>url_inmueble</th>\n",
       "      <th>rooms</th>\n",
       "      <th>bathrooms</th>\n",
       "      <th>surface</th>\n",
       "      <th>price</th>\n",
       "      <th>...</th>\n",
       "      <th>level4Id</th>\n",
       "      <th>level5Id</th>\n",
       "      <th>level6Id</th>\n",
       "      <th>level7Id</th>\n",
       "      <th>level8Id</th>\n",
       "      <th>accuracy</th>\n",
       "      <th>latitude</th>\n",
       "      <th>longitude</th>\n",
       "      <th>zipCode</th>\n",
       "      <th>customZone</th>\n",
       "    </tr>\n",
       "  </thead>\n",
       "  <tbody>\n",
       "  </tbody>\n",
       "</table>\n",
       "<p>0 rows × 37 columns</p>\n",
       "</div>"
      ],
      "text/plain": [
       "Empty DataFrame\n",
       "Columns: [Unnamed: 0, id_realEstates, isNew, realEstate_name, phone_realEstate, url_inmueble, rooms, bathrooms, surface, price, date, description, address, country, level1, level2, level3, level4, level5, level6, level7, level8, upperLevel, countryId, level1Id, level2Id, level3Id, level4Id, level5Id, level6Id, level7Id, level8Id, accuracy, latitude, longitude, zipCode, customZone]\n",
       "Index: []\n",
       "\n",
       "[0 rows x 37 columns]"
      ]
     },
     "execution_count": 11,
     "metadata": {},
     "output_type": "execute_result"
    }
   ],
   "source": [
    "# TODO\n",
    "df.dropna()"
   ]
  },
  {
   "attachments": {},
   "cell_type": "markdown",
   "id": "middle-china",
   "metadata": {},
   "source": [
    "#### Exercise 07. Which is the mean of prices in the population (level5 column) of \"Arroyomolinos (Madrid)\"? (★★☆)\n",
    "\n",
    "Print the obtained value"
   ]
  },
  {
   "cell_type": "code",
   "execution_count": 20,
   "id": "nuclear-belief",
   "metadata": {},
   "outputs": [
    {
     "data": {
      "text/plain": [
       "294541.59854014596"
      ]
     },
     "execution_count": 20,
     "metadata": {},
     "output_type": "execute_result"
    }
   ],
   "source": [
    "# TODO\n",
    "df[df['level5'] == \"Arroyomolinos (Madrid)\"] ['price'].mean()"
   ]
  },
  {
   "attachments": {},
   "cell_type": "markdown",
   "id": "concerned-radical",
   "metadata": {},
   "source": [
    "#### Exercise 08. Plot the histogram of prices for the population (level5 column) of \"Arroyomolinos (Madrid)\" and explain what you observe (★★☆)\n",
    "\n",
    "Print the histogram of the prices and write in the Markdown cell a brief analysis about the plot."
   ]
  },
  {
   "cell_type": "code",
   "execution_count": 8,
   "id": "sudden-message",
   "metadata": {},
   "outputs": [
    {
     "data": {
      "text/plain": [
       "(array([ 2.,  0.,  3., 31., 33., 33., 28.,  3.,  2.,  2.]),\n",
       " array([     0.,  58000., 116000., 174000., 232000., 290000., 348000.,\n",
       "        406000., 464000., 522000., 580000.]),\n",
       " <BarContainer object of 10 artists>)"
      ]
     },
     "execution_count": 8,
     "metadata": {},
     "output_type": "execute_result"
    },
    {
     "data": {
      "image/png": "[encoded data removed]",
      "text/plain": [
       "<Figure size 640x480 with 1 Axes>"
      ]
     },
     "metadata": {},
     "output_type": "display_data"
    }
   ],
   "source": [
    "# TODO: Code\n",
    "import matplotlib.pyplot as plt\n",
    "prices = df[df['level5'] == \"Arroyomolinos (Madrid)\"]['price']\n",
    "plt.hist(prices)"
   ]
  },
  {
   "attachments": {},
   "cell_type": "markdown",
   "id": "impressed-combination",
   "metadata": {},
   "source": [
    "**TODO: Markdown**. To write here, double click to this cell and just remove this content and place the text you want to write. Then, execute the cell."
   ]
  },
  {
   "attachments": {},
   "cell_type": "markdown",
   "id": "actual-edinburgh",
   "metadata": {},
   "source": [
    "#### Exercise 09. Are the averages of \"Valdemorillo\" and \"Galapagar\" prices the same? (★★☆)\n",
    "\n",
    "Print the both average prices and then write a conclusion about them"
   ]
  },
  {
   "cell_type": "code",
   "execution_count": 11,
   "id": "numeric-commerce",
   "metadata": {},
   "outputs": [
    {
     "name": "stdout",
     "output_type": "stream",
     "text": [
      "363860.2931034483\n",
      "360063.20238095237\n",
      "The mean of both prices is almost identical\n"
     ]
    }
   ],
   "source": [
    "# TODO\n",
    "average1 = df[df['level5'] == \"Valdemorillo\"]['price'].mean()\n",
    "average2 = df[df['level5'] == \"Galapagar\"]['price'].mean()\n",
    "print(average1)\n",
    "print(average2)\n",
    "print(\"The mean of both prices is almost identical\")\n"
   ]
  },
  {
   "attachments": {},
   "cell_type": "markdown",
   "id": "lonely-article",
   "metadata": {},
   "source": [
    "#### Exercise 10. Are the averages of \"Valdemorillo\" and \"Galapagar\" price per square meter (price/m2) the same? (★★☆)\n",
    "\n",
    "Print the both average prices and then write a conclusion about\n",
    "\n",
    "Hint: Create a new column called `pps` (price per square) and then analyse the values"
   ]
  },
  {
   "cell_type": "code",
   "execution_count": 73,
   "id": "hourly-globe",
   "metadata": {},
   "outputs": [
    {
     "name": "stdout",
     "output_type": "stream",
     "text": [
      "363860.2931034483 360063.20238095237\n"
     ]
    }
   ],
   "source": [
    "# TODO\n",
    "average1 = df[df['level5'] == \"Valdemorillo\"]['price'].mean()\n",
    "average2 = df[df['level5'] == \"Galapagar\"]['price'].mean()\n",
    "print(average1, average2)\n"
   ]
  },
  {
   "attachments": {},
   "cell_type": "markdown",
   "id": "pleasant-invite",
   "metadata": {},
   "source": [
    "#### Exercise 11. Analyse the relation between the surface and the price of the houses (★★☆)\n",
    "\n",
    "Hint: You can make a `scatter plot` and then write a conclusion about it"
   ]
  },
  {
   "cell_type": "code",
   "execution_count": 37,
   "id": "common-drilling",
   "metadata": {},
   "outputs": [
    {
     "data": {
      "image/png": "[encoded data removed]",
      "text/plain": [
       "<Figure size 640x480 with 1 Axes>"
      ]
     },
     "metadata": {},
     "output_type": "display_data"
    }
   ],
   "source": [
    "# TODO: Code\n",
    "import matplotlib.pyplot as plt\n",
    "surface = df.loc[:, 'surface']\n",
    "price = df.loc[:, 'price']\n",
    "plt.scatter(surface, price)\n",
    "plt.show()"
   ]
  },
  {
   "attachments": {},
   "cell_type": "markdown",
   "id": "ahead-liquid",
   "metadata": {},
   "source": [
    "**TODO: Markdown**. To write here, double click to this cell and just remove this content and place the text you want to write. Then, execute the cell."
   ]
  },
  {
   "attachments": {},
   "cell_type": "markdown",
   "id": "coordinate-sunrise",
   "metadata": {},
   "source": [
    "#### Exercise 12. How many real estate agencies the dataset contains? (★★☆)\n",
    "\n",
    "Print the obtained value"
   ]
  },
  {
   "cell_type": "code",
   "execution_count": 5,
   "id": "valid-honolulu",
   "metadata": {},
   "outputs": [
    {
     "name": "stdout",
     "output_type": "stream",
     "text": [
      "['ferrari 57 inmobiliaria' 'tecnocasa fuenlabrada ferrocarril'\n",
      " 'look find boadilla' ... 'redpiso villaverde bajo san cristobal'\n",
      " 'gestion comercial' 'nieves']\n"
     ]
    }
   ],
   "source": [
    "unique = df.loc[:, 'realEstate_name'].unique()\n",
    "\n",
    "print(unique)"
   ]
  },
  {
   "attachments": {},
   "cell_type": "markdown",
   "id": "binding-ebony",
   "metadata": {},
   "source": [
    "#### Exercise 13. Which is the population (level5 column) that contains the most houses? (★★☆)\n",
    "\n",
    "Print both the population and the number of houses"
   ]
  },
  {
   "cell_type": "code",
   "execution_count": 61,
   "id": "static-perry",
   "metadata": {},
   "outputs": [
    {
     "data": {
      "text/plain": [
       "Unnamed: 0                                                       7193\n",
       "id_realEstates                                              153918372\n",
       "isNew                                                           False\n",
       "realEstate_name                                                   NaN\n",
       "phone_realEstate                                                  NaN\n",
       "url_inmueble        https://www.fotocasa.es/es/comprar/vivienda/al...\n",
       "rooms                                                             1.0\n",
       "bathrooms                                                         1.0\n",
       "surface                                                          67.0\n",
       "price                                                          130000\n",
       "date                                             2019-12-25T04:30:00Z\n",
       "description         Vendemos chalet unifamiliar en zarzalejo estac...\n",
       "address                                    Calle Muelle, 7, Zarzalejo\n",
       "country                                                        España\n",
       "level1                                                         Madrid\n",
       "level2                                                         Madrid\n",
       "level3                                                  Zona Suroeste\n",
       "level4                                                       Resto A5\n",
       "level5                                                      Zarzalejo\n",
       "level6                                                            NaN\n",
       "level7                                                            NaN\n",
       "level8                                                            NaN\n",
       "upperLevel                                                  Zarzalejo\n",
       "countryId                                                           0\n",
       "level1Id                                                            0\n",
       "level2Id                                                            0\n",
       "level3Id                                                            0\n",
       "level4Id                                                            0\n",
       "level5Id                                                            0\n",
       "level6Id                                                            0\n",
       "level7Id                                                            0\n",
       "level8Id                                                            0\n",
       "accuracy                                                            1\n",
       "latitude                                                     40,53933\n",
       "longitude                                                    -4,15748\n",
       "zipCode                                                           NaN\n",
       "customZone                                                        NaN\n",
       "Name: 7192, dtype: object"
      ]
     },
     "execution_count": 61,
     "metadata": {},
     "output_type": "execute_result"
    }
   ],
   "source": [
    "# TODO\n",
    "max = df['level5'].idxmax()\n",
    "df.iloc[7192]"
   ]
  },
  {
   "attachments": {},
   "cell_type": "markdown",
   "id": "entire-classification",
   "metadata": {},
   "source": [
    "#### Exercise 14. Now let's work with the \"south belt\" of madrid. Make a subset of the original DataFrame that contains the following populations (level5 column): \"Fuenlabrada\",\"Leganés\",\"Getafe\",\"Alcorcón\" (★★☆)\n",
    "\n",
    "Hint: Filter the original DataFrame using the column `level5` and the function `isin`"
   ]
  },
  {
   "cell_type": "code",
   "execution_count": 64,
   "id": "binary-input",
   "metadata": {},
   "outputs": [
    {
     "data": {
      "text/html": [
       "<div>\n",
       "<style scoped>\n",
       "    .dataframe tbody tr th:only-of-type {\n",
       "        vertical-align: middle;\n",
       "    }\n",
       "\n",
       "    .dataframe tbody tr th {\n",
       "        vertical-align: top;\n",
       "    }\n",
       "\n",
       "    .dataframe thead th {\n",
       "        text-align: right;\n",
       "    }\n",
       "</style>\n",
       "<table border=\"1\" class=\"dataframe\">\n",
       "  <thead>\n",
       "    <tr style=\"text-align: right;\">\n",
       "      <th></th>\n",
       "      <th>Unnamed: 0</th>\n",
       "      <th>id_realEstates</th>\n",
       "      <th>isNew</th>\n",
       "      <th>realEstate_name</th>\n",
       "      <th>phone_realEstate</th>\n",
       "      <th>url_inmueble</th>\n",
       "      <th>rooms</th>\n",
       "      <th>bathrooms</th>\n",
       "      <th>surface</th>\n",
       "      <th>price</th>\n",
       "      <th>...</th>\n",
       "      <th>level4Id</th>\n",
       "      <th>level5Id</th>\n",
       "      <th>level6Id</th>\n",
       "      <th>level7Id</th>\n",
       "      <th>level8Id</th>\n",
       "      <th>accuracy</th>\n",
       "      <th>latitude</th>\n",
       "      <th>longitude</th>\n",
       "      <th>zipCode</th>\n",
       "      <th>customZone</th>\n",
       "    </tr>\n",
       "  </thead>\n",
       "  <tbody>\n",
       "    <tr>\n",
       "      <th>1</th>\n",
       "      <td>2</td>\n",
       "      <td>153867863</td>\n",
       "      <td>False</td>\n",
       "      <td>tecnocasa fuenlabrada ferrocarril</td>\n",
       "      <td>916358736.0</td>\n",
       "      <td>https://www.fotocasa.es/es/comprar/vivienda/ma...</td>\n",
       "      <td>3.0</td>\n",
       "      <td>1.0</td>\n",
       "      <td>NaN</td>\n",
       "      <td>89000</td>\n",
       "      <td>...</td>\n",
       "      <td>0</td>\n",
       "      <td>0</td>\n",
       "      <td>0</td>\n",
       "      <td>0</td>\n",
       "      <td>0</td>\n",
       "      <td>1</td>\n",
       "      <td>40,28674</td>\n",
       "      <td>-3,79351</td>\n",
       "      <td>NaN</td>\n",
       "      <td>NaN</td>\n",
       "    </tr>\n",
       "    <tr>\n",
       "      <th>3</th>\n",
       "      <td>4</td>\n",
       "      <td>152776331</td>\n",
       "      <td>False</td>\n",
       "      <td>tecnocasa fuenlabrada ferrocarril</td>\n",
       "      <td>916358736.0</td>\n",
       "      <td>https://www.fotocasa.es/es/comprar/vivienda/ma...</td>\n",
       "      <td>3.0</td>\n",
       "      <td>1.0</td>\n",
       "      <td>86.0</td>\n",
       "      <td>89000</td>\n",
       "      <td>...</td>\n",
       "      <td>0</td>\n",
       "      <td>0</td>\n",
       "      <td>0</td>\n",
       "      <td>0</td>\n",
       "      <td>0</td>\n",
       "      <td>0</td>\n",
       "      <td>40,2853785786438</td>\n",
       "      <td>-3,79508142135624</td>\n",
       "      <td>NaN</td>\n",
       "      <td>NaN</td>\n",
       "    </tr>\n",
       "    <tr>\n",
       "      <th>85</th>\n",
       "      <td>86</td>\n",
       "      <td>153152077</td>\n",
       "      <td>False</td>\n",
       "      <td>sinergical inmobiliaria</td>\n",
       "      <td>NaN</td>\n",
       "      <td>https://www.fotocasa.es/es/comprar/vivienda/le...</td>\n",
       "      <td>1.0</td>\n",
       "      <td>1.0</td>\n",
       "      <td>50.0</td>\n",
       "      <td>107000</td>\n",
       "      <td>...</td>\n",
       "      <td>0</td>\n",
       "      <td>0</td>\n",
       "      <td>0</td>\n",
       "      <td>0</td>\n",
       "      <td>0</td>\n",
       "      <td>1</td>\n",
       "      <td>40,35059</td>\n",
       "      <td>-3,82693</td>\n",
       "      <td>NaN</td>\n",
       "      <td>NaN</td>\n",
       "    </tr>\n",
       "    <tr>\n",
       "      <th>94</th>\n",
       "      <td>95</td>\n",
       "      <td>153995577</td>\n",
       "      <td>False</td>\n",
       "      <td>viviendas365com</td>\n",
       "      <td>911226014.0</td>\n",
       "      <td>https://www.fotocasa.es/es/comprar/vivienda/le...</td>\n",
       "      <td>3.0</td>\n",
       "      <td>2.0</td>\n",
       "      <td>120.0</td>\n",
       "      <td>320000</td>\n",
       "      <td>...</td>\n",
       "      <td>0</td>\n",
       "      <td>0</td>\n",
       "      <td>0</td>\n",
       "      <td>0</td>\n",
       "      <td>0</td>\n",
       "      <td>0</td>\n",
       "      <td>40,31933</td>\n",
       "      <td>-3,77574</td>\n",
       "      <td>NaN</td>\n",
       "      <td>NaN</td>\n",
       "    </tr>\n",
       "    <tr>\n",
       "      <th>109</th>\n",
       "      <td>110</td>\n",
       "      <td>153586414</td>\n",
       "      <td>False</td>\n",
       "      <td>area uno asesores inmobiliarios</td>\n",
       "      <td>912664081.0</td>\n",
       "      <td>https://www.fotocasa.es/es/comprar/vivienda/ma...</td>\n",
       "      <td>3.0</td>\n",
       "      <td>3.0</td>\n",
       "      <td>142.0</td>\n",
       "      <td>425000</td>\n",
       "      <td>...</td>\n",
       "      <td>0</td>\n",
       "      <td>0</td>\n",
       "      <td>0</td>\n",
       "      <td>0</td>\n",
       "      <td>0</td>\n",
       "      <td>0</td>\n",
       "      <td>40,3313411</td>\n",
       "      <td>-3,8313868</td>\n",
       "      <td>NaN</td>\n",
       "      <td>NaN</td>\n",
       "    </tr>\n",
       "    <tr>\n",
       "      <th>...</th>\n",
       "      <td>...</td>\n",
       "      <td>...</td>\n",
       "      <td>...</td>\n",
       "      <td>...</td>\n",
       "      <td>...</td>\n",
       "      <td>...</td>\n",
       "      <td>...</td>\n",
       "      <td>...</td>\n",
       "      <td>...</td>\n",
       "      <td>...</td>\n",
       "      <td>...</td>\n",
       "      <td>...</td>\n",
       "      <td>...</td>\n",
       "      <td>...</td>\n",
       "      <td>...</td>\n",
       "      <td>...</td>\n",
       "      <td>...</td>\n",
       "      <td>...</td>\n",
       "      <td>...</td>\n",
       "      <td>...</td>\n",
       "      <td>...</td>\n",
       "    </tr>\n",
       "    <tr>\n",
       "      <th>15275</th>\n",
       "      <td>15276</td>\n",
       "      <td>153903887</td>\n",
       "      <td>False</td>\n",
       "      <td>aliseda servicios de gestion inmobiliaria</td>\n",
       "      <td>911368198.0</td>\n",
       "      <td>https://www.fotocasa.es/es/comprar/vivienda/al...</td>\n",
       "      <td>3.0</td>\n",
       "      <td>1.0</td>\n",
       "      <td>78.0</td>\n",
       "      <td>138000</td>\n",
       "      <td>...</td>\n",
       "      <td>0</td>\n",
       "      <td>0</td>\n",
       "      <td>0</td>\n",
       "      <td>0</td>\n",
       "      <td>0</td>\n",
       "      <td>1</td>\n",
       "      <td>40,31381</td>\n",
       "      <td>-3,83733</td>\n",
       "      <td>NaN</td>\n",
       "      <td>NaN</td>\n",
       "    </tr>\n",
       "    <tr>\n",
       "      <th>15291</th>\n",
       "      <td>15292</td>\n",
       "      <td>151697757</td>\n",
       "      <td>False</td>\n",
       "      <td>unipiso</td>\n",
       "      <td>912788631.0</td>\n",
       "      <td>https://www.fotocasa.es/es/comprar/vivienda/al...</td>\n",
       "      <td>3.0</td>\n",
       "      <td>2.0</td>\n",
       "      <td>110.0</td>\n",
       "      <td>279000</td>\n",
       "      <td>...</td>\n",
       "      <td>0</td>\n",
       "      <td>0</td>\n",
       "      <td>0</td>\n",
       "      <td>0</td>\n",
       "      <td>0</td>\n",
       "      <td>0</td>\n",
       "      <td>40,3259051</td>\n",
       "      <td>-3,76318</td>\n",
       "      <td>NaN</td>\n",
       "      <td>NaN</td>\n",
       "    </tr>\n",
       "    <tr>\n",
       "      <th>15305</th>\n",
       "      <td>15306</td>\n",
       "      <td>153902389</td>\n",
       "      <td>False</td>\n",
       "      <td>jadein ferrero</td>\n",
       "      <td>914871639.0</td>\n",
       "      <td>https://www.fotocasa.es/es/comprar/vivienda/ma...</td>\n",
       "      <td>3.0</td>\n",
       "      <td>2.0</td>\n",
       "      <td>85.0</td>\n",
       "      <td>170000</td>\n",
       "      <td>...</td>\n",
       "      <td>0</td>\n",
       "      <td>0</td>\n",
       "      <td>0</td>\n",
       "      <td>0</td>\n",
       "      <td>0</td>\n",
       "      <td>0</td>\n",
       "      <td>40,2882193</td>\n",
       "      <td>-3,8098617</td>\n",
       "      <td>NaN</td>\n",
       "      <td>NaN</td>\n",
       "    </tr>\n",
       "    <tr>\n",
       "      <th>15322</th>\n",
       "      <td>15323</td>\n",
       "      <td>153871864</td>\n",
       "      <td>False</td>\n",
       "      <td>gestion comercial</td>\n",
       "      <td>911220662.0</td>\n",
       "      <td>https://www.fotocasa.es/es/comprar/vivienda/ma...</td>\n",
       "      <td>3.0</td>\n",
       "      <td>1.0</td>\n",
       "      <td>91.0</td>\n",
       "      <td>112000</td>\n",
       "      <td>...</td>\n",
       "      <td>0</td>\n",
       "      <td>0</td>\n",
       "      <td>0</td>\n",
       "      <td>0</td>\n",
       "      <td>0</td>\n",
       "      <td>0</td>\n",
       "      <td>40,28282</td>\n",
       "      <td>-3,78892</td>\n",
       "      <td>NaN</td>\n",
       "      <td>NaN</td>\n",
       "    </tr>\n",
       "    <tr>\n",
       "      <th>15325</th>\n",
       "      <td>15326</td>\n",
       "      <td>153901467</td>\n",
       "      <td>False</td>\n",
       "      <td>montehogar 68</td>\n",
       "      <td>911790675.0</td>\n",
       "      <td>https://www.fotocasa.es/es/comprar/vivienda/ma...</td>\n",
       "      <td>2.0</td>\n",
       "      <td>2.0</td>\n",
       "      <td>99.0</td>\n",
       "      <td>215000</td>\n",
       "      <td>...</td>\n",
       "      <td>0</td>\n",
       "      <td>0</td>\n",
       "      <td>0</td>\n",
       "      <td>0</td>\n",
       "      <td>0</td>\n",
       "      <td>1</td>\n",
       "      <td>40,28062</td>\n",
       "      <td>-3,79869</td>\n",
       "      <td>NaN</td>\n",
       "      <td>NaN</td>\n",
       "    </tr>\n",
       "  </tbody>\n",
       "</table>\n",
       "<p>907 rows × 37 columns</p>\n",
       "</div>"
      ],
      "text/plain": [
       "       Unnamed: 0  id_realEstates  isNew  \\\n",
       "1               2       153867863  False   \n",
       "3               4       152776331  False   \n",
       "85             86       153152077  False   \n",
       "94             95       153995577  False   \n",
       "109           110       153586414  False   \n",
       "...           ...             ...    ...   \n",
       "15275       15276       153903887  False   \n",
       "15291       15292       151697757  False   \n",
       "15305       15306       153902389  False   \n",
       "15322       15323       153871864  False   \n",
       "15325       15326       153901467  False   \n",
       "\n",
       "                                 realEstate_name  phone_realEstate  \\\n",
       "1              tecnocasa fuenlabrada ferrocarril       916358736.0   \n",
       "3              tecnocasa fuenlabrada ferrocarril       916358736.0   \n",
       "85                       sinergical inmobiliaria               NaN   \n",
       "94                               viviendas365com       911226014.0   \n",
       "109              area uno asesores inmobiliarios       912664081.0   \n",
       "...                                          ...               ...   \n",
       "15275  aliseda servicios de gestion inmobiliaria       911368198.0   \n",
       "15291                                    unipiso       912788631.0   \n",
       "15305                             jadein ferrero       914871639.0   \n",
       "15322                          gestion comercial       911220662.0   \n",
       "15325                              montehogar 68       911790675.0   \n",
       "\n",
       "                                            url_inmueble  rooms  bathrooms  \\\n",
       "1      https://www.fotocasa.es/es/comprar/vivienda/ma...    3.0        1.0   \n",
       "3      https://www.fotocasa.es/es/comprar/vivienda/ma...    3.0        1.0   \n",
       "85     https://www.fotocasa.es/es/comprar/vivienda/le...    1.0        1.0   \n",
       "94     https://www.fotocasa.es/es/comprar/vivienda/le...    3.0        2.0   \n",
       "109    https://www.fotocasa.es/es/comprar/vivienda/ma...    3.0        3.0   \n",
       "...                                                  ...    ...        ...   \n",
       "15275  https://www.fotocasa.es/es/comprar/vivienda/al...    3.0        1.0   \n",
       "15291  https://www.fotocasa.es/es/comprar/vivienda/al...    3.0        2.0   \n",
       "15305  https://www.fotocasa.es/es/comprar/vivienda/ma...    3.0        2.0   \n",
       "15322  https://www.fotocasa.es/es/comprar/vivienda/ma...    3.0        1.0   \n",
       "15325  https://www.fotocasa.es/es/comprar/vivienda/ma...    2.0        2.0   \n",
       "\n",
       "       surface   price  ... level4Id level5Id level6Id level7Id level8Id  \\\n",
       "1          NaN   89000  ...        0        0        0        0        0   \n",
       "3         86.0   89000  ...        0        0        0        0        0   \n",
       "85        50.0  107000  ...        0        0        0        0        0   \n",
       "94       120.0  320000  ...        0        0        0        0        0   \n",
       "109      142.0  425000  ...        0        0        0        0        0   \n",
       "...        ...     ...  ...      ...      ...      ...      ...      ...   \n",
       "15275     78.0  138000  ...        0        0        0        0        0   \n",
       "15291    110.0  279000  ...        0        0        0        0        0   \n",
       "15305     85.0  170000  ...        0        0        0        0        0   \n",
       "15322     91.0  112000  ...        0        0        0        0        0   \n",
       "15325     99.0  215000  ...        0        0        0        0        0   \n",
       "\n",
       "      accuracy          latitude          longitude zipCode customZone  \n",
       "1            1          40,28674           -3,79351     NaN        NaN  \n",
       "3            0  40,2853785786438  -3,79508142135624     NaN        NaN  \n",
       "85           1          40,35059           -3,82693     NaN        NaN  \n",
       "94           0          40,31933           -3,77574     NaN        NaN  \n",
       "109          0        40,3313411         -3,8313868     NaN        NaN  \n",
       "...        ...               ...                ...     ...        ...  \n",
       "15275        1          40,31381           -3,83733     NaN        NaN  \n",
       "15291        0        40,3259051           -3,76318     NaN        NaN  \n",
       "15305        0        40,2882193         -3,8098617     NaN        NaN  \n",
       "15322        0          40,28282           -3,78892     NaN        NaN  \n",
       "15325        1          40,28062           -3,79869     NaN        NaN  \n",
       "\n",
       "[907 rows x 37 columns]"
      ]
     },
     "execution_count": 64,
     "metadata": {},
     "output_type": "execute_result"
    }
   ],
   "source": [
    "# TODO\n",
    "subset = df[df['level5'].isin([\"Fuenlabrada\",\"Leganés\",\"Getafe\",\"Alcorcón\"])]\n",
    "subset"
   ]
  },
  {
   "attachments": {},
   "cell_type": "markdown",
   "id": "severe-fisher",
   "metadata": {},
   "source": [
    "#### Exercise 15. Make a bar plot of the median of the prices and explain what you observe (you must use the subset obtained in the question 14) (★★★)\n",
    "\n",
    "Print the bar of the median of the prices and write in the Markdown cell a brief analysis about the plot"
   ]
  },
  {
   "cell_type": "code",
   "execution_count": 13,
   "id": "lyric-bunch",
   "metadata": {},
   "outputs": [
    {
     "data": {
      "image/png": "[encoded data removed]",
      "text/plain": [
       "<Figure size 640x480 with 1 Axes>"
      ]
     },
     "metadata": {},
     "output_type": "display_data"
    }
   ],
   "source": [
    "import matplotlib.pyplot as plt\n",
    "subset = df[df['level5'].isin([\"Fuenlabrada\",\"Leganés\",\"Getafe\",\"Alcorcón\"])]\n",
    "average1 = subset[subset['level5'] == \"Fuenlabrada\"]['price'].mean()\n",
    "average2 = subset[subset['level5'] == \"Leganés\"]['price'].mean()\n",
    "average3 = subset[subset['level5'] == \"Getafe\"]['price'].mean()\n",
    "average4 = subset[subset['level5'] == \"Alcorcón\"]['price'].mean()\n",
    "mean = [average1, average2, average3, average4]\n",
    "populations = \"Fuenlabrada\",\"Leganés\",\"Getafe\",\"Alcorcón\"\n",
    "\n",
    "plt.bar(populations, mean)\n",
    "plt.show()"
   ]
  },
  {
   "attachments": {},
   "cell_type": "markdown",
   "id": "sublime-newspaper",
   "metadata": {},
   "source": [
    "**TODO: Markdown**. To write here, double click to this cell and just remove this content and place the text you want to write. Then, execute the cell."
   ]
  },
  {
   "attachments": {},
   "cell_type": "markdown",
   "id": "speaking-diamond",
   "metadata": {},
   "source": [
    "#### Exercise 16. Calculate the sample mean and variance of the variables: price, rooms, surface area and bathrooms (you must use the subset obtained in the question 14) (★★★)\n",
    "\n",
    "Print both values for each variable"
   ]
  },
  {
   "cell_type": "code",
   "execution_count": 32,
   "id": "random-feeling",
   "metadata": {},
   "outputs": [
    {
     "name": "stdout",
     "output_type": "stream",
     "text": [
      "The mean and the variance of the following variables:\n",
      "price: mean(177198.02145922746), variance(4701020700.469365)\n",
      "rooms: mean(3.0259740259740258), variance(0.3558441558441558)\n",
      "surface area: mean(103.6243654822335), variance(2264.6438930902314)\n",
      "bathrooms: mean(1.445414847161572), variance(0.3533670420592967)\n"
     ]
    }
   ],
   "source": [
    "# TODO\n",
    "subset = df[df['level5'].isin([\"Fuenlabrada\",\"Leganés\",\"Getafe\",\"Alcorcón\"])]\n",
    "avrg_price1 = subset[subset['level5'] == \"Fuenlabrada\"]['price'].mean()\n",
    "var_price1 = subset[subset['level5'] == \"Fuenlabrada\"]['price'].var()\n",
    "avrg_rooms1 = subset[subset['level5'] == \"Fuenlabrada\"]['rooms'].mean()\n",
    "var_rooms1 = subset[subset['level5'] == \"Fuenlabrada\"]['rooms'].var()\n",
    "avrg_surface1 = subset[subset['level5'] == \"Fuenlabrada\"]['surface'].mean()\n",
    "var_surface1 = subset[subset['level5'] == \"Fuenlabrada\"]['surface'].var()\n",
    "avrg_bath1 = subset[subset['level5'] == \"Fuenlabrada\"]['bathrooms'].mean()\n",
    "var_bath1 = subset[subset['level5'] == \"Fuenlabrada\"]['bathrooms'].var()\n",
    "print(f\"The mean and the variance of the following variables:\\nprice: mean({avrg_price1}), variance({var_price1})\")\n",
    "print(f\"rooms: mean({avrg_rooms1}), variance({var_rooms1})\")\n",
    "print(f\"surface area: mean({avrg_surface1}), variance({var_surface1})\")\n",
    "print(f\"bathrooms: mean({avrg_bath1}), variance({var_bath1})\")\n"
   ]
  },
  {
   "attachments": {},
   "cell_type": "markdown",
   "id": "revolutionary-matrix",
   "metadata": {},
   "source": [
    "#### Exercise 17. What is the most expensive house of each population? You must use the subset obtained in the question 14 (★★☆)\n",
    "\n",
    "Print both the address and the price of the selected house of each population. You can print a DataFrame or a single line for each population"
   ]
  },
  {
   "cell_type": "code",
   "execution_count": 58,
   "id": "fifteen-browse",
   "metadata": {},
   "outputs": [
    {
     "name": "stdout",
     "output_type": "stream",
     "text": [
      "The most expensive house in Fuentelabrada is located at Calle de Paulo Freire, 5, Fuenlabrada. With its price being $490000\n",
      "The most expensive house in Leganés is located at Avenida Reina Sofía, Leganés. With its price being $650000\n",
      "The most expensive house in Getafe is located at Getafe. With its price being $1050000\n",
      "The most expensive house in Alcorcón is located at Alcorcón. With its price being $950000\n"
     ]
    }
   ],
   "source": [
    "# TODO\n",
    "subset = df[df['level5'].isin([\"Fuenlabrada\",\"Leganés\",\"Getafe\",\"Alcorcón\"])]\n",
    "loc1 = subset[subset['level5'] == \"Fuenlabrada\"]['price'].idxmax()\n",
    "loc2 = subset[subset['level5'] == \"Leganés\"]['price'].idxmax()\n",
    "loc3 = subset[subset['level5'] == \"Getafe\"]['price'].idxmax()\n",
    "loc4 = subset[subset['level5'] == \"Alcorcón\"]['price'].idxmax()\n",
    "\n",
    "print(f\"The most expensive house in Fuentelabrada is located at {subset.loc[loc1]['address']}. With its price being ${subset.loc[loc1]['price']}\")\n",
    "print(f\"The most expensive house in Leganés is located at {subset.loc[loc2]['address']}. With its price being ${subset.loc[loc2]['price']}\")\n",
    "print(f\"The most expensive house in Getafe is located at {subset.loc[loc3]['address']}. With its price being ${subset.loc[loc3]['price']}\")\n",
    "print(f\"The most expensive house in Alcorcón is located at {subset.loc[loc4]['address']}. With its price being ${subset.loc[loc4]['price']}\")"
   ]
  },
  {
   "attachments": {},
   "cell_type": "markdown",
   "id": "activated-knight",
   "metadata": {},
   "source": [
    "#### Exercise 18. Normalize the variable of prices for each population and plot the 4 histograms in the same plot (you must use the subset obtained in the question 14) (★★★)\n",
    "\n",
    "For the normalization method you can use the one you consider to, there is not a single correct answer to this question. Print the plot and write in the Markdown cell a brief analysis about the plot\n",
    "\n",
    "Hint: You can help yourself reviewing the multihist demo of Matplotlib"
   ]
  },
  {
   "cell_type": "code",
   "execution_count": 63,
   "id": "civic-meditation",
   "metadata": {},
   "outputs": [
    {
     "data": {
      "image/png": "[encoded data removed]",
      "text/plain": [
       "<Figure size 1000x600 with 1 Axes>"
      ]
     },
     "metadata": {},
     "output_type": "display_data"
    }
   ],
   "source": [
    "# TODO\n",
    "import matplotlib.pyplot as plt\n",
    "\n",
    "subset = df[df['level5'].isin([\"Fuenlabrada\",\"Leganés\",\"Getafe\",\"Alcorcón\"])]\n",
    "\n",
    "prices_mean = subset.groupby('level5')['price'].mean()\n",
    "prices_std = subset.groupby('level5')['price'].std()\n",
    "\n",
    "normalize = (subset.set_index('level5')['price'] - prices_mean / prices_std)\n",
    "\n",
    "plt.figure(figsize=(10, 6))\n",
    "for population in [\"Fuenlabrada\", \"Leganés\", \"Getafe\", \"Alcorcón\"]:\n",
    "    plt.hist(normalize[population], bins=20)\n",
    "plt.show()"
   ]
  },
  {
   "attachments": {},
   "cell_type": "markdown",
   "id": "precise-heavy",
   "metadata": {},
   "source": [
    "**TODO: Markdown**. To write here, double click to this cell and just remove this content and place the text you want to write. Then, execute the cell."
   ]
  },
  {
   "attachments": {},
   "cell_type": "markdown",
   "id": "patent-jonathan",
   "metadata": {},
   "source": [
    "#### Exercise 19. What can you say about the price per square meter (price/m2) between the towns of \"Getafe\" and \"Alcorcón\"? You must use the subset obtained in the question 14 (★★☆)\n",
    "\n",
    "Hint: Create a new column called `pps` (price per square) and then analyse the values"
   ]
  },
  {
   "cell_type": "code",
   "execution_count": 67,
   "id": "initial-liverpool",
   "metadata": {},
   "outputs": [
    {
     "name": "stdout",
     "output_type": "stream",
     "text": [
      "count     414.000000\n",
      "mean     2138.602009\n",
      "std       669.736439\n",
      "min         0.000000\n",
      "25%      1747.201493\n",
      "50%      2085.646600\n",
      "75%      2522.915169\n",
      "max      3827.160494\n",
      "Name: pps, dtype: float64\n"
     ]
    },
    {
     "name": "stderr",
     "output_type": "stream",
     "text": [
      "/tmp/ipykernel_435/2940710753.py:4: SettingWithCopyWarning: \n",
      "A value is trying to be set on a copy of a slice from a DataFrame.\n",
      "Try using .loc[row_indexer,col_indexer] = value instead\n",
      "\n",
      "See the caveats in the documentation: https://pandas.pydata.org/pandas-docs/stable/user_guide/indexing.html#returning-a-view-versus-a-copy\n",
      "  subset['pps'] = subset['price'] / subset['surface']\n"
     ]
    }
   ],
   "source": [
    "# TODO\n",
    "subset = df[df['level5'].isin([\"Getafe\", \"Alcorcón\"])]\n",
    "\n",
    "subset['pps'] = subset['price'] / subset['surface']\n",
    "\n",
    "pps = subset['pps'].describe()\n",
    "\n",
    "print(pps)"
   ]
  },
  {
   "attachments": {},
   "cell_type": "markdown",
   "id": "enhanced-moscow",
   "metadata": {},
   "source": [
    "#### Exercise 20. Make the same plot for 4 different populations (level5 column) and rearrange them on the same graph? You must use the subset obtained in the question 14 (★★☆) \n",
    "Hint: make a scatter plot of each population using subplots."
   ]
  },
  {
   "cell_type": "code",
   "execution_count": 71,
   "id": "accepting-airfare",
   "metadata": {},
   "outputs": [
    {
     "name": "stderr",
     "output_type": "stream",
     "text": [
      "/tmp/ipykernel_435/3674151796.py:4: SettingWithCopyWarning: \n",
      "A value is trying to be set on a copy of a slice from a DataFrame.\n",
      "Try using .loc[row_indexer,col_indexer] = value instead\n",
      "\n",
      "See the caveats in the documentation: https://pandas.pydata.org/pandas-docs/stable/user_guide/indexing.html#returning-a-view-versus-a-copy\n",
      "  subset['pps'] = subset['price'] / subset['surface']\n"
     ]
    },
    {
     "data": {
      "image/png": "[encoded data removed]",
      "text/plain": [
       "<Figure size 1000x600 with 1 Axes>"
      ]
     },
     "metadata": {},
     "output_type": "display_data"
    }
   ],
   "source": [
    "# TODO\n",
    "subset = df[df['level5'].isin([\"Fuenlabrada\", \"Leganés\", \"Getafe\", \"Alcorcón\"])]\n",
    "\n",
    "subset['pps'] = subset['price'] / subset['surface']\n",
    "\n",
    "plt.figure(figsize=(10, 6))\n",
    "for population in [\"Fuenlabrada\", \"Leganés\", \"Getafe\", \"Alcorcón\"]:\n",
    "    population_subset = subset[subset['level5'] == population]\n",
    "    plt.hist(population_subset['pps'], bins=20, alpha=0.5, label=population)"
   ]
  },
  {
   "attachments": {},
   "cell_type": "markdown",
   "id": "blocked-effects",
   "metadata": {},
   "source": [
    "#### Exercise 21. Make a plot of the coordinates (latitude and longitude columns) of the south belt of Madrid by color of each population (you must use the subset obtained in the question 14) (★★★★)\n",
    "\n",
    "Execute the following cell and then start coding in the next one. You must implement a simple code that transform the coordinates columns in a Python dictionary (add more information if needed) and then add it to the map"
   ]
  },
  {
   "cell_type": "code",
   "execution_count": null,
   "id": "headed-privacy",
   "metadata": {},
   "outputs": [],
   "source": [
    "from ipyleaflet import Map, basemaps\n",
    "\n",
    "# Map centred on (60 degrees latitude et -2.2 degrees longitude)\n",
    "# Latitude, longitude\n",
    "map = Map(center = (60, -2.2), zoom = 2, min_zoom = 1, max_zoom = 20, \n",
    "    basemap=basemaps.Stamen.Terrain)\n",
    "map"
   ]
  },
  {
   "cell_type": "code",
   "execution_count": 70,
   "id": "present-mistress",
   "metadata": {},
   "outputs": [
    {
     "name": "stdout",
     "output_type": "stream",
     "text": [
      "{'Fuenlabrada': [('40,28674', '-3,79351'), ('40,2853785786438', '-3,79508142135624'), ('40,2744807718156', '-3,79192471504211'), ('40,2906814213562', '-3,80405242135624'), ('40,3152529585', '-3,8365174323'), ('40,2921796', '-3,815865'), ('40,29224', '-3,83833'), ('40,31381', '-3,83733'), ('40,29742', '-3,80916'), ('40,3133562', '-3,8360052'), ('40,27782', '-3,80908'), ('40,2919082135624', '-3,82411851356237'), ('40,31381', '-3,83733'), ('40,2889244', '-3,7985458'), ('40,2837261', '-3,7907629'), ('40,2823585', '-3,8061052'), ('40,2830905213562', '-3,80549367864376'), ('40,296075', '-3,80790299999994'), ('40,2772542', '-3,7907283'), ('40,296075', '-3,80790299999994'), ('40,2772542', '-3,7907283'), ('40,2915427786438', '-3,79755132135624'), ('40,28293', '-3,80959'), ('40,29338', '-3,82598'), ('40,2871968', '-3,7917573'), ('40,2890264864376', '-3,81057698643763'), ('40,2833037', '-3,78627316'), ('40,288330005557', '-3,7994911074191'), ('40,288095391725', '-3,8000407415556'), ('40,28651', '-3,78329'), ('40,2877', '-3,80104'), ('40,29987', '-3,80874'), ('40,27609356', '-3,80152655'), ('40,2945890127654', '-3,79703164100647'), ('40,2945890127654', '-3,79703164100647'), ('40,28181', '-3,78804'), ('40,29287', '-3,79943'), ('40,2758248', '-3,7999498'), ('40,27862', '-3,78728'), ('40,2888528', '-3,8221908'), ('40,2971995999033', '-3,83405685424805'), ('40,2929608592128', '-3,8392174243927'), ('40,2925435170825', '-3,83121371269226'), ('40,2892496970814', '-3,81259381771088'), ('40,2925973931475', '-3,78414431610143'), ('40,2907380864376', '-3,79345111356237'), ('40,27512', '-3,80061'), ('40,2862494', '-3,8054465'), ('40,2738157864376', '-3,80253421356237'), ('40,2919796', '-3,813865'), ('40,2804758', '-3,7886023'), ('40,2897', '-3,80039'), ('40,2752542', '-3,7905283'), ('40,29052', '-3,79275'), ('40,288113', '-3,800844'), ('40,286028', '-3,804853'), ('40,28404', '-3,80752'), ('40,2808183', '-3,8083335'), ('40,29338', '-3,82598'), ('40,2942943', '-3,7890764'), ('40,29053', '-3,79219'), ('40,28615', '-3,78487'), ('40,27927', '-3,78859'), ('40,28867', '-3,80108'), ('40,2842', '-3,78608'), ('40,29131', '-3,79696'), ('40,2876117', '-3,7883313'), ('40,29192', '-3,7951'), ('40,28029', '-3,80809'), ('40,2836', '-3,79472'), ('40,2804640280991', '-3,78879725933075'), ('40,2802348570363', '-3,80658030509949'), ('40,283340877313', '-3,80265355110168'), ('40,2835163436148', '-3,79826013677064'), ('40,2852437046111', '-3,79868388175964'), ('40,2933624864376', '-3,81011881356237'), ('40,27908', '-3,80925'), ('40,28479', '-3,79011'), ('40,29269', '-3,80311'), ('40,27748', '-3,81045'), ('40,29849', '-3,80975'), ('40,29387', '-3,78821'), ('40,29338', '-3,82598'), ('40,29338', '-3,82598'), ('40,29202', '-3,80383'), ('40,2808882', '-3,8040432'), ('40,2756121', '-3,7910649'), ('40,2887913864376', '-3,80213348643763'), ('40,2896797', '-3,7973998'), ('40,287018416', '-3,8204841445'), ('40,28775', '-3,81949'), ('40,2800385786438', '-3,78851142135624'), ('40,2834965', '-3,7943644'), ('40,2819117', '-3,7857094'), ('40,31381', '-3,83733'), ('40,2836586', '-3,8072866'), ('40,29338', '-3,82598'), ('40,27726', '-3,80709'), ('40,2933296', '-3,8096706'), ('40,28186', '-3,79819'), ('40,2859916687012', '-3,80190992355347'), ('40,2889421', '-3,80338000000006'), ('40,29338', '-3,82598'), ('40,29338', '-3,82598'), ('40,29338', '-3,82598'), ('40,28062', '-3,79869'), ('40,283133', '-3,790236'), ('40,29212', '-3,83108'), ('40,2866', '-3,79446'), ('40,28532', '-3,79494'), ('40,28494845', '-3,8060085535'), ('40,29905', '-3,80776'), ('40,28805', '-3,79415'), ('40,28805', '-3,79415'), ('40,29095', '-3,78316'), ('40,281955297', '-3,794286131'), ('40,29305', '-3,83638'), ('40,27635', '-3,80027'), ('40,2853', '-3,79436'), ('40,2744157864376', '-3,80027421356237'), ('40,289733', '-3,797771'), ('40,2889722135624', '-3,80187621356237'), ('40,2913667864376', '-3,80326778643763'), ('40,286478', '-3,807777'), ('40,291526', '-3,80371'), ('40,30049', '-3,83739'), ('40,28382', '-3,80151'), ('40,2820357864376', '-3,80247578643763'), ('40,27817', '-3,80604'), ('40,28069', '-3,8052'), ('40,2756414', '-3,7977828'), ('40,29321', '-3,78655'), ('40,2814139', '-3,8065813'), ('40,2829107', '-3,8025311'), ('40,2814139', '-3,8065813'), ('40,2829107', '-3,8025311'), ('40,29338', '-3,82598'), ('40,2889244', '-3,7985458'), ('40,282', '-3,80813'), ('40,282', '-3,80813'), ('40,29338', '-3,82598'), ('40,29217', '-3,79556'), ('40,299029', '-3,810943'), ('40,2829', '-3,80855'), ('40,278420269286', '-3,8088987103865'), ('40,279938262758', '-3,8098724025355'), ('40,2824903', '-3,807421'), ('40,2970296', '-3,8104846'), ('40,2825819', '-3,8070057'), ('40,28698', '-3,7914644'), ('40,283219', '-3,7918147'), ('40,2923318', '-3,8386229'), ('40,2820833864376', '-3,80207588643763'), ('40,2832782', '-3,7864969'), ('40,2764598939', '-3,7862125907'), ('40,2877367', '-3,798948'), ('40,29011', '-3,78833'), ('40,29335', '-3,78428'), ('40,29337', '-3,78961'), ('40,290905192578', '-3,7964129778185'), ('40,286776166148', '-3,7965785676235'), ('40,28893', '-3,78419'), ('40,2891349826874', '-3,80264944605351'), ('40,2896842', '-3,7974099'), ('40,28286', '-3,81475'), ('40,2764028', '-3,8004914'), ('40,29072', '-3,8043'), ('40,28624', '-3,795'), ('40,2926049', '-3,795537'), ('40,282445', '-3,8085'), ('40,29405', '-3,79775'), ('40,287', '-3,7996'), ('40,2840309143066', '-3,79483008384705'), ('40,2887913864376', '-3,8021334864376'), ('40,28676', '-3,79802'), ('40,2896842', '-3,7974099'), ('40,2982677986069', '-3,80819644795653'), ('40,29011', '-3,78833'), ('40,28684', '-3,79006'), ('40,2941899', '-3,8092835'), ('40,2922401', '-3,8015042'), ('40,2928257', '-3,8349063'), ('40,27927', '-3,78859'), ('40,28529', '-3,79408'), ('40,28286', '-3,80121'), ('40,28265', '-3,79985'), ('40,2807', '-3,79143'), ('40,29058', '-3,78839'), ('40,28687', '-3,78406'), ('40,2875', '-3,80313'), ('40,30023', '-3,80875'), ('40,28709', '-3,80728'), ('40,29274', '-3,7896'), ('40,30428', '-3,83748'), ('40,2934187', '-3,7824559'), ('40,28162', '-3,78693'), ('40,2841067', '-3,7961005'), ('40,29674', '-3,7987'), ('40,28037', '-3,79333'), ('40,29371', '-3,80326'), ('40,29387', '-3,78821'), ('40,277956', '-3,809874'), ('40,29', '-3,80921'), ('40,31407', '-3,83809'), ('40,3010733', '-3,8353401'), ('40,28245', '-3,80848'), ('40,28728', '-3,80281'), ('40,2946', '-3,7962'), ('40,2965', '-3,79922'), ('40,2913667864376', '-3,80326778643763'), ('40,27563', '-3,79886'), ('40,29019', '-3,79215'), ('40,28486', '-3,83738'), ('40,2820453965836', '-3,80216837862613'), ('40,2865158', '-3,8050723'), ('40,28315', '-3,79437'), ('40,2830697', '-3,7909198'), ('40,28084', '-3,79721'), ('40,31361', '-3,83733'), ('40,28682', '-3,79437'), ('40,28661', '-3,78978'), ('40,2831823', '-3,7904124'), ('40,28818', '-3,81198'), ('40,2843', '-3,79544'), ('40,28086', '-3,80998'), ('40,2744744', '-3,80489250000005'), ('40,2748257864376', '-3,79980721356237'), ('40,295285090629', '-3,8354148269737'), ('40,31381', '-3,83733'), ('40,31381', '-3,83733'), ('40,2882193', '-3,8098617'), ('40,28282', '-3,78892'), ('40,28062', '-3,79869')], 'Alcorcón': [('40,35059', '-3,82693'), ('40,3313411', '-3,8313868'), ('40,3526', '-3,81587'), ('40,3546326213562', '-3,80197422135624'), ('40,34949', '-3,83127'), ('40,34608', '-3,82316'), ('40,3446968786438', '-3,82185872135624'), ('40,34942', '-3,82489'), ('40,3525293490715', '-3,81249633026123'), ('40,3453965786438', '-3,82416582135624'), ('40,3453965786438', '-3,82416582135624'), ('40,33829', '-3,82919'), ('40,3541132', '-3,8009789'), ('40,3494952', '-3,8193922'), ('40,34368', '-3,8455'), ('40,3314905686438', '-3,82336329135624'), ('40,3470842135624', '-3,81097578643763'), ('40,3442916870117', '-3,82681002807617'), ('40,3489999', '-3,82822'), ('40,34368', '-3,8455'), ('40,3467875', '-3,8301848'), ('40,33163199', '-3,82342187'), ('40,34438', '-3,82546'), ('40,34855', '-3,81162'), ('40,347495990297', '-3,8217114947359'), ('40,345881470732', '-3,8105465372741'), ('0', '0'), ('40,34362', '-3,82534'), ('40,34559', '-3,82172'), ('40,3469313664376', '-3,83183956356237'), ('40,3470069724376', '-3,82310920943763'), ('40,34444980446', '-3,816518944703'), ('40,34307648046', '-3,8272440218029'), ('40,3485743497314', '-3,82804765150163'), ('40,33757', '-3,83304'), ('40,3447687130376', '-3,83498738426237'), ('40,3392951184', '-3,8344010008'), ('40,35064', '-3,8228'), ('40,3375861704', '-3,8333786122'), ('40,3464199', '-3,8294138'), ('40,3430768', '-3,8414216'), ('40,35131', '-3,83347'), ('40,34454', '-3,82844'), ('40,34645', '-3,83122'), ('40,34879', '-3,83085'), ('40,35331', '-3,79921'), ('40,34913', '-3,82771'), ('40,34438', '-3,82546'), ('40,34368', '-3,8455'), ('40,34775', '-3,82853'), ('40,33143199', '-3,82322187'), ('40,34368', '-3,8455'), ('40,34749', '-3,84128'), ('40,34257', '-3,84485'), ('40,3513', '-3,82849'), ('40,33854', '-3,85619'), ('40,3478556971546', '-3,82424283527373'), ('40,33457', '-3,83658'), ('40,34323', '-3,82894'), ('40,35541', '-3,82059'), ('40,35022', '-3,82184'), ('40,34484', '-3,83016'), ('40,34851', '-3,82673'), ('40,34879', '-3,82935'), ('40,34749', '-3,82339'), ('40,3535169', '-3,8664683'), ('40,34841', '-3,82877'), ('40,34288', '-3,83289'), ('40,34218', '-3,82431'), ('40,3498685786438', '-3,80460857864376'), ('40,354', '-3,80057'), ('40,343363079834', '-3,84367609024048'), ('40,3466873', '-3,8291539'), ('40,343363079834', '-3,84367609024048'), ('40,3466873', '-3,8291539'), ('40,35022', '-3,82184'), ('40,34797', '-3,83064'), ('40,34438', '-3,82546'), ('40,34737', '-3,82447'), ('40,3354997', '-3,8557201'), ('40,34368', '-3,8455'), ('40,3461', '-3,8216869'), ('40,34368', '-3,8455'), ('40,34368', '-3,8455'), ('40,34438', '-3,82546'), ('40,34368', '-3,8455'), ('40,32936015', '-3,82449841'), ('40,343452', '-3,8255215'), ('40,34396', '-3,82553'), ('40,3519318', '-3,8184971'), ('40,34438', '-3,82546'), ('40,34438', '-3,82546'), ('40,34438', '-3,82546'), ('40,3465199864376', '-3,83168351356237'), ('40,34368', '-3,8455'), ('40,34028', '-3,81981'), ('40,333266378437', '-3,8308672118658'), ('40,3506246', '-3,83166800000004'), ('40,35541', '-3,82059'), ('40,34888169', '-3,8273082'), ('40,34120434', '-3,81590858'), ('40,345947283775', '-3,8258840503082'), ('40,3432', '-3,8293'), ('40,34269', '-3,8282'), ('40,34695', '-3,82855'), ('40,34304', '-3,8322'), ('40,3509298371', '-3,8148375712'), ('40,3430341495', '-3,8269158555'), ('40,350753', '-3,8294167'), ('40,34102', '-3,82785'), ('40,3509298371', '-3,8148375712'), ('40,3430341495', '-3,8269158555'), ('40,350753', '-3,8294167'), ('40,34102', '-3,82785'), ('40,34368', '-3,8455'), ('40,34368', '-3,8455'), ('40,3427357864376', '-3,82791578643763'), ('40,32936015', '-3,82449841'), ('40,34438', '-3,82546'), ('40,336755744937', '-3,8547774793093'), ('40,34639', '-3,8213'), ('40,34438', '-3,82546'), ('40,33746', '-3,85598'), ('40,34768', '-3,82749'), ('40,35499', '-3,81911'), ('40,35427', '-3,80184'), ('40,34327', '-3,82435'), ('40,3448916', '-3,8233388'), ('40,35109', '-3,82622'), ('40,35042', '-3,81984'), ('40,34438', '-3,82546'), ('40,34438', '-3,82546'), ('40,34438', '-3,82546'), ('40,341978', '-3,8435586'), ('40,3438274', '-3,8245606'), ('40,3280798', '-3,8372555'), ('40,3280798', '-3,8372555'), ('40,33726', '-3,85598'), ('40,34252', '-3,8256'), ('40,33671', '-3,83373'), ('40,343705210773', '-3,8246052988763'), ('40,3425103', '-3,81683384'), ('40,34783', '-3,80671'), ('40,34645', '-3,82717'), ('40,35069', '-3,81703'), ('40,34795', '-3,83126'), ('40,35541', '-3,82059'), ('40,34449', '-3,8288'), ('40,3376', '-3,85603'), ('40,34739', '-3,82403'), ('40,34438', '-3,82546'), ('40,335', '-3,855'), ('40,35145', '-3,82898'), ('40,33898', '-3,83529'), ('40,33443', '-3,84057'), ('40,35478', '-3,81963'), ('40,3539345', '-3,818527'), ('40,34461', '-3,8257'), ('40,35466', '-3,81574'), ('40,3434837', '-3,8255195'), ('40,34702', '-3,80664'), ('40,34009', '-3,83637'), ('40,35306', '-3,81159'), ('40,34639', '-3,81489'), ('40,34576', '-3,82895'), ('40,3424', '-3,83005'), ('40,3359653', '-3,8277845'), ('40,3402489', '-3,8258232'), ('40,3376', '-3,85603'), ('40,34314', '-3,82931'), ('40,34314', '-3,8293'), ('40,34603', '-3,82437'), ('40,34067', '-3,82865'), ('40,32831978', '-3,82342198'), ('40,34519', '-3,82946'), ('40,33546', '-3,85598'), ('40,3473615287', '-3,8281633365'), ('40,3416428', '-3,82531010000002'), ('40,350214341', '-3,821837461'), ('40,35472', '-3,81054'), ('40,35223', '-3,81732'), ('40,34635', '-3,8236'), ('40,33746', '-3,85598'), ('40,33551964', '-3,8349888'), ('40,34372', '-3,8157'), ('40,34484', '-3,83016'), ('40,35382', '-3,80028'), ('40,35541', '-3,82059'), ('40,3522', '-3,80279'), ('40,344393', '-3,839799')], 'Leganés': [('40,31933', '-3,77574'), ('40,356919', '-3,77769'), ('40,3274', '-3,77152'), ('40,3142811864376', '-3,79168641356237'), ('40,32124', '-3,7798'), ('40,35524', '-3,78003'), ('40,33686', '-3,75523'), ('40,33252', '-3,77006'), ('40,3164257864376', '-3,77228421356237'), ('40,3216444213562', '-3,78003122135624'), ('40,3342649', '-3,7708315'), ('40,3155378864376', '-3,78935761356239'), ('40,3341242135624', '-3,77088421356237'), ('40,33238', '-3,77167'), ('40,3324438', '-3,7692378'), ('40,34179', '-3,77388'), ('40,32124', '-3,7798'), ('40,344788', '-3,7414642'), ('40,3205313786438', '-3,75509212135624'), ('40,3205154213562', '-3,75540942135624'), ('40,343175', '-3,781201'), ('40,343375', '-3,781001'), ('40,343375', '-3,781001'), ('40,343175', '-3,780801'), ('40,3321035', '-3,7549885'), ('40,3207914213562', '-3,75518142135624'), ('40,334217', '-3,761382'), ('40,3074935', '-3,78635829999996'), ('40,3128454', '-3,78585959999998'), ('40,33655', '-3,77874'), ('40,33621', '-3,75287'), ('40,32953', '-3,75011'), ('40,33422', '-3,76264'), ('40,32873', '-3,75612'), ('40,33603', '-3,74315'), ('40,3204492', '-3,7550433'), ('40,3388', '-3,74981'), ('40,3360541', '-3,74927409999998'), ('40,334721', '-3,751087'), ('40,333254', '-3,7565717'), ('40,32049', '-3,77969'), ('40,32115', '-3,75589'), ('40,3362852', '-3,7388189'), ('40,3322342135624', '-3,77201421356237'), ('40,32131', '-3,75912'), ('40,3299051', '-3,76318'), ('40,33727', '-3,7454'), ('40,3238357864376', '-3,76423421356237'), ('40,32246', '-3,7837'), ('40,33475', '-3,7507'), ('40,35512', '-3,77858'), ('40,32359', '-3,76952'), ('40,33423', '-3,74847'), ('40,33238', '-3,75385'), ('40,33138', '-3,74716'), ('40,33423', '-3,74847'), ('40,33251', '-3,76091'), ('40,3432624', '-3,780075'), ('40,33731', '-3,7748487'), ('40,35679', '-3,77956'), ('40,35679', '-3,77956'), ('40,32739', '-3,76408'), ('40,3291', '-3,75182'), ('40,3459851', '-3,744779'), ('40,3326157', '-3,7526299'), ('40,3234', '-3,77152'), ('40,3230964', '-3,7819198'), ('40,32828', '-3,76646'), ('40,34348', '-3,77794'), ('40,33244', '-3,74343'), ('40,35314', '-3,7852'), ('40,358816', '-3,7806746'), ('40,33727', '-3,7454'), ('40,33745', '-3,74144'), ('40,3309657864376', '-3,77108421356237'), ('40,3136954', '-3,7902722'), ('40,33595', '-3,75278'), ('40,3148063472576', '-3,7859058380127'), ('40,32489', '-3,77267'), ('40,3358557864376', '-3,75089421356237'), ('40,3318', '-3,75931'), ('40,3366733113739', '-3,74195404234641'), ('40,3364895', '-3,7405455'), ('40,33011', '-3,76489'), ('40,33011', '-3,76489'), ('40,3193033445857', '-3,77997059253031'), ('40,341175', '-3,781001'), ('40,33727', '-3,7454'), ('40,32489', '-3,77267'), ('40,3326157', '-3,7526299'), ('40,33527', '-3,74948'), ('40,32321', '-3,77126'), ('40,32404566', '-3,77137011'), ('40,3329', '-3,75306'), ('40,3323', '-3,768598'), ('40,3578021841515', '-3,77895983765465'), ('40,3323', '-3,768598'), ('40,3578021841515', '-3,77895983765465'), ('40,335', '-3,76732'), ('40,33329', '-3,75607'), ('40,3345834', '-3,7420251'), ('40,32275', '-3,76969'), ('40,356133', '-3,781143'), ('40,341175', '-3,781001'), ('40,3335821864376', '-3,76873891356237'), ('40,3344698', '-3,7556483'), ('40,3337657864376', '-3,76824421356237'), ('40,3337657864376', '-3,76824421356237'), ('40,34536', '-3,74371'), ('40,32303', '-3,76101'), ('40,33829', '-3,74589'), ('40,3599654864376', '-3,77977721356237'), ('40,3143312', '-3,7894115'), ('40,3284118326652', '-3,76477807760239'), ('40,3284118326652', '-3,76477807760239'), ('40,33609706', '-3,76855838'), ('40,32455', '-3,77172'), ('40,31719', '-3,77119'), ('40,3551815490723', '-3,77932000160217'), ('40,3423636291504', '-3,74814414978027'), ('40,3271904', '-3,7654675'), ('40,35634535', '-3,7765983'), ('40,35741', '-3,77827'), ('40,32343', '-3,76604'), ('40,3318', '-3,75931'), ('40,33595', '-3,75278'), ('40,33527', '-3,74948'), ('40,31917', '-3,75643'), ('40,33562', '-3,75553'), ('40,3457876', '-3,74066417'), ('40,3148063472576', '-3,7859058380127'), ('40,32828', '-3,76646'), ('40,33441', '-3,75434'), ('40,339', '-3,75199'), ('40,317586', '-3,755019'), ('40,328601', '-3,763826'), ('40,320355', '-3,777929'), ('40,319574', '-3,755102'), ('40,319444', '-3,753672'), ('40,315913', '-3,756759'), ('40,33008', '-3,76646'), ('40,33218', '-3,74921'), ('40,3285125', '-3,7624825'), ('40,3574064', '-3,7782684'), ('40,3300242041513', '-3,76550231421688'), ('40,3201063', '-3,7586646'), ('40,33806', '-3,75135'), ('40,33385', '-3,75161'), ('40,331329', '-3,770181'), ('40,3310724737636', '-3,77000578078649'), ('40,32458', '-3,77367'), ('40,32739', '-3,76408'), ('40,33727', '-3,7454'), ('40,3241157864376', '-3,77127578643763'), ('40,3278234', '-3,7630715'), ('40,3335821864376', '-3,76873891356237'), ('40,3303391', '-3,7544003'), ('40,32901', '-3,75009'), ('40,3234', '-3,77152'), ('40,34538', '-3,77261'), ('40,33425', '-3,76186'), ('40,323754187848', '-3,7730788126493'), ('40,3313044150488', '-3,75084400177002'), ('40,3319065585014', '-3,7759260276798'), ('40,33158', '-3,7602'), ('40,32134', '-3,76047'), ('40,33189', '-3,764'), ('40,33595', '-3,75278'), ('40,3543087740551', '-3,78119683423338'), ('40,3308835864376', '-3,77019188643763'), ('40,3308835864376', '-3,77019188643763'), ('40,33163', '-3,74655'), ('40,32811', '-3,76988'), ('40,3194273', '-3,7546246'), ('40,3208104', '-3,78076959999998'), ('40,32845', '-3,76772'), ('40,33643', '-3,75089'), ('40,32845', '-3,76772'), ('40,33643', '-3,75089'), ('40,33595', '-3,75278'), ('40,32746', '-3,76821'), ('40,33383', '-3,75547'), ('40,3337657864376', '-3,76824421356237'), ('40,3337657864376', '-3,76824421356237'), ('40,33132', '-3,76054'), ('40,3210413', '-3,779803'), ('40,3366', '-3,74658'), ('40,33177', '-3,773'), ('40,33422', '-3,76264'), ('40,3571804504395', '-3,78049993515015'), ('40,32314', '-3,78143'), ('40,3337657864376', '-3,76824421356237'), ('40,32124', '-3,7798'), ('40,3259051', '-3,76318')], 'Getafe': [('40,31111', '-3,73066'), ('40,3060558', '-3,7346649'), ('40,3035689', '-3,7381336'), ('40,3068987', '-3,725108'), ('40,28327', '-3,74772'), ('40,3034957864376', '-3,72721421356237'), ('40,30779', '-3,73801'), ('40,30184', '-3,72799'), ('40,30091', '-3,73093'), ('40,30635', '-3,72887'), ('40,3220051387', '-3,7130324135'), ('40,3153084', '-3,7324561'), ('40,3012757864376', '-3,72873421356237'), ('40,3218', '-3,71263'), ('40,3262', '-3,73377'), ('40,30353', '-3,73817'), ('40,3117642135624', '-3,71427578643763'), ('40,31313', '-3,71922'), ('40,3099157864376', '-3,72196421356237'), ('40,28869', '-3,74767'), ('40,30005', '-3,73323'), ('40,3014614213562', '-3,73946142135624'), ('40,3152732', '-3,7057332'), ('40,3061746135624', '-3,73762418643763'), ('40,3159134', '-3,7272536'), ('40,30206', '-3,73321'), ('40,31667', '-3,74072'), ('40,30754', '-3,72869'), ('40,3119888305664', '-3,72591996192932'), ('40,32947', '-3,72937'), ('40,3300714213562', '-3,73209857864376'), ('40,30206', '-3,73321'), ('40,3300714213562', '-3,73209857864376'), ('40,30206', '-3,73321'), ('40,3175029', '-3,7229835'), ('40,31072', '-3,73017'), ('40,31072', '-3,73017'), ('0', '0'), ('40,3298114213562', '-3,72922857864376'), ('40,3300714213562', '-3,73209857864376'), ('40,32635', '-3,72974'), ('40,32635', '-3,72974'), ('40,31667', '-3,74072'), ('40,30566', '-3,75295'), ('40,309815', '-3,715394'), ('40,30785', '-3,72048'), ('40,308054', '-3,721986'), ('40,309815', '-3,715394'), ('40,30785', '-3,72048'), ('40,308054', '-3,721986'), ('0', '0'), ('40,302820239187', '-3,7281704612835'), ('40,309481', '-3,730291'), ('40,309481', '-3,730291'), ('40,30871', '-3,74713'), ('40,3151', '-3,72027'), ('40,31093', '-3,71703'), ('40,30011', '-3,7337'), ('40,30958', '-3,73939'), ('40,31622', '-3,73848'), ('40,31622', '-3,73848'), ('40,31622', '-3,73848'), ('40,31622', '-3,73848'), ('40,31622', '-3,73848'), ('40,31622', '-3,73848'), ('40,31622', '-3,73848'), ('40,31622', '-3,73848'), ('40,31622', '-3,73848'), ('40,31622', '-3,73848'), ('40,31622', '-3,73848'), ('40,31622', '-3,73848'), ('40,31622', '-3,73848'), ('40,31622', '-3,73848'), ('40,31622', '-3,73848'), ('40,31622', '-3,73848'), ('40,31622', '-3,73848'), ('40,31622', '-3,73848'), ('40,31622', '-3,73848'), ('40,31622', '-3,73848'), ('40,31622', '-3,73848'), ('40,31622', '-3,73848'), ('40,31622', '-3,73848'), ('40,31622', '-3,73848'), ('40,31622', '-3,73848'), ('40,31622', '-3,73848'), ('40,31622', '-3,73848'), ('40,31622', '-3,73848'), ('40,31622', '-3,73848'), ('40,30754', '-3,72869'), ('40,30754', '-3,72869'), ('40,30754', '-3,72869'), ('40,32793', '-3,73224'), ('40,32635', '-3,72974'), ('40,30546', '-3,75275'), ('40,30206', '-3,73321'), ('40,30754', '-3,72869'), ('40,3120728', '-3,7315907'), ('40,31072', '-3,73017'), ('40,31667', '-3,74072'), ('40,31667', '-3,74072'), ('40,28344', '-3,75483'), ('40,31295', '-3,72903'), ('40,2842', '-3,75367'), ('40,30754', '-3,72977'), ('40,30299', '-3,73191'), ('40,3076893328', '-3,7335333825'), ('40,3179637337', '-3,7241576949'), ('40,31468', '-3,73029'), ('40,3164', '-3,72351'), ('40,30201', '-3,73096'), ('40,32188', '-3,7137'), ('40,30733', '-3,73803'), ('40,30809', '-3,73853'), ('40,31376', '-3,7209'), ('40,3116', '-3,72493'), ('40,3226783', '-3,7312807'), ('40,3122542135624', '-3,72538421356237'), ('40,3139235', '-3,7211553'), ('40,31195', '-3,72177'), ('40,3071', '-3,7259'), ('40,31594', '-3,72034'), ('40,3079548245211', '-3,73173594474792'), ('40,30011', '-3,73112'), ('40,30234', '-3,73357'), ('40,28449', '-3,75385'), ('40,30206', '-3,73321'), ('40,32635', '-3,72974'), ('40,30206', '-3,73321'), ('40,32635', '-3,72974'), ('40,29931', '-3,73958'), ('40,31667', '-3,74072'), ('40,3161134', '-3,7272536'), ('40,30754', '-3,72869'), ('40,30186', '-3,73321'), ('40,31072', '-3,73017'), ('40,30546', '-3,75275'), ('40,32635', '-3,72974'), ('40,3161134', '-3,7272536'), ('40,31004', '-3,7284'), ('40,2887738', '-3,7436436'), ('40,31143337', '-3,71537812'), ('40,32635', '-3,72974'), ('40,32635', '-3,72974'), ('40,32635', '-3,72974'), ('40,31111', '-3,72456'), ('40,32446', '-3,71776'), ('40,31111', '-3,72456'), ('40,32446', '-3,71776'), ('40,31296', '-3,72078'), ('40,3161134', '-3,7272536'), ('40,31667', '-3,74072'), ('40,30546', '-3,75275'), ('40,30754', '-3,72869'), ('40,31072', '-3,73017'), ('40,30754', '-3,72869'), ('40,30206', '-3,73321'), ('40,31667', '-3,74072'), ('40,307803', '-3,714596'), ('40,308843', '-3,715955'), ('40,30607', '-3,7348'), ('40,29867', '-3,74804'), ('40,313970835286', '-3,7178172600122'), ('40,3086311', '-3,7223487'), ('40,32635', '-3,72974'), ('40,3225429', '-3,732149'), ('40,3225429', '-3,732149'), ('40,3225429', '-3,732149'), ('40,31043', '-3,72942'), ('40,32635', '-3,72974'), ('40,30206', '-3,73321'), ('40,30754', '-3,72869'), ('40,30206', '-3,73321'), ('40,30754', '-3,72869'), ('40,31667', '-3,74072'), ('40,31667', '-3,74072'), ('40,31072', '-3,73017'), ('40,30973', '-3,71763'), ('40,3186747864376', '-3,72381678643763'), ('40,3186747864376', '-3,72381678643763'), ('40,30485', '-3,73806'), ('40,32429', '-3,73639'), ('40,2990857864376', '-3,73202421356237'), ('40,3054397', '-3,73865030000002'), ('40,310909', '-3,7303591'), ('40,3103782', '-3,7295262'), ('0', '0'), ('40,2985657864376', '-3,73475421356237'), ('40,31896', '-3,72461'), ('40,31321', '-3,72212'), ('40,31368', '-3,72077'), ('40,28364', '-3,75503'), ('40,31896', '-3,72461'), ('40,31321', '-3,72212'), ('40,31368', '-3,72077'), ('40,31896', '-3,72461'), ('40,31321', '-3,72212'), ('40,31368', '-3,72077'), ('40,28364', '-3,75503'), ('40,31259', '-3,72246'), ('40,32635', '-3,72974'), ('40,32635', '-3,72974'), ('40,31072', '-3,73017'), ('40,31572', '-3,72119'), ('40,31667', '-3,74072'), ('40,30546', '-3,75275'), ('40,31667', '-3,74072'), ('40,30206', '-3,73321'), ('40,30186', '-3,73321'), ('40,28871', '-3,75019'), ('40,28871', '-3,75019'), ('40,30206', '-3,73321'), ('40,31667', '-3,74072'), ('40,31667', '-3,74072'), ('40,32635', '-3,72974'), ('40,32635', '-3,72974'), ('40,3079', '-3,72964'), ('40,30546', '-3,75275'), ('40,30186', '-3,73321'), ('40,28866', '-3,74746'), ('0', '0'), ('40,3139', '-3,71888'), ('40,3144', '-3,73279'), ('40,30186', '-3,73321'), ('40,31667', '-3,74072'), ('40,30186', '-3,73321'), ('40,31667', '-3,74072'), ('40,30186', '-3,73321'), ('40,31667', '-3,74072'), ('40,32546', '-3,73121'), ('40,31151', '-3,71706'), ('40,31033', '-3,71785'), ('40,31767', '-3,72494'), ('40,300709', '-3,733316'), ('40,300251', '-3,731819'), ('40,3187663', '-3,71462710000003'), ('40,30606', '-3,73466'), ('40,2833081169234', '-3,75334990326103'), ('0', '0'), ('40,3028614213562', '-3,73534857864376'), ('40,3062504', '-3,7323934'), ('40,31229', '-3,71814'), ('40,30186', '-3,73321'), ('40,3218194', '-3,7116497'), ('40,31845', '-3,72532'), ('40,3080504', '-3,7323934'), ('40,31667', '-3,74072'), ('40,30027', '-3,73335'), ('40,31667', '-3,74072'), ('40,30546', '-3,75275'), ('40,31498', '-3,73458'), ('40,30186', '-3,73321'), ('40,3104154', '-3,728483'), ('40,3121231', '-3,7180369'), ('40,3086963', '-3,73855119999996'), ('40,32672', '-3,73453'), ('40,29931', '-3,73958'), ('40,3127899', '-3,7204288'), ('40,30855', '-3,72731'), ('40,3170797', '-3,722955'), ('40,30507', '-3,73091'), ('40,2851691', '-3,7465719'), ('40,31667', '-3,74072'), ('40,32176', '-3,72398'), ('40,3101', '-3,71803'), ('40,30333', '-3,72839'), ('40,3101', '-3,71803'), ('40,30333', '-3,72839'), ('40,31667', '-3,74072'), ('40,30186', '-3,73321'), ('40,30546', '-3,75275'), ('40,30186', '-3,73321'), ('40,310835', '-3,724996'), ('40,310835', '-3,724996'), ('40,30569', '-3,72626'), ('40,31569687', '-3,7211453'), ('40,3139', '-3,71781'), ('40,3139', '-3,71781'), ('40,30262', '-3,7342'), ('0', '0'), ('0', '0'), ('0', '0'), ('0', '0'), ('0', '0'), ('40,31672', '-3,72254'), ('40,31428', '-3,71706'), ('40,30546', '-3,75275'), ('40,30206', '-3,73321'), ('40,31667', '-3,74072'), ('40,30186', '-3,73321'), ('40,31667', '-3,74072')]}\n"
     ]
    },
    {
     "ename": "AttributeError",
     "evalue": "Stamen",
     "output_type": "error",
     "traceback": [
      "\u001b[0;31m---------------------------------------------------------------------------\u001b[0m",
      "\u001b[0;31mKeyError\u001b[0m                                  Traceback (most recent call last)",
      "File \u001b[0;32m~/.local/lib/python3.11/site-packages/xyzservices/lib.py:44\u001b[0m, in \u001b[0;36mBunch.__getattr__\u001b[0;34m(self, key)\u001b[0m\n\u001b[1;32m     43\u001b[0m \u001b[38;5;28;01mtry\u001b[39;00m:\n\u001b[0;32m---> 44\u001b[0m     \u001b[38;5;28;01mreturn\u001b[39;00m \u001b[38;5;28;43mself\u001b[39;49m\u001b[38;5;241;43m.\u001b[39;49m\u001b[38;5;21;43m__getitem__\u001b[39;49m\u001b[43m(\u001b[49m\u001b[43mkey\u001b[49m\u001b[43m)\u001b[49m\n\u001b[1;32m     45\u001b[0m \u001b[38;5;28;01mexcept\u001b[39;00m \u001b[38;5;167;01mKeyError\u001b[39;00m \u001b[38;5;28;01mas\u001b[39;00m err:\n",
      "\u001b[0;31mKeyError\u001b[0m: 'Stamen'",
      "\nThe above exception was the direct cause of the following exception:\n",
      "\u001b[0;31mAttributeError\u001b[0m                            Traceback (most recent call last)",
      "Cell \u001b[0;32mIn[70], line 28\u001b[0m\n\u001b[1;32m     24\u001b[0m \u001b[38;5;28mprint\u001b[39m(coordinates_dict)\n\u001b[1;32m     26\u001b[0m \u001b[38;5;66;03m# Map centred on (60 degrees latitude et -2.2 degrees longitude)\u001b[39;00m\n\u001b[1;32m     27\u001b[0m \u001b[38;5;66;03m# Latitude, longitude\u001b[39;00m\n\u001b[0;32m---> 28\u001b[0m \u001b[38;5;28mmap\u001b[39m \u001b[38;5;241m=\u001b[39m Map(center\u001b[38;5;241m=\u001b[39m(\u001b[38;5;241m40.3\u001b[39m, \u001b[38;5;241m-\u001b[39m\u001b[38;5;241m3.8\u001b[39m), zoom\u001b[38;5;241m=\u001b[39m\u001b[38;5;241m10\u001b[39m, min_zoom\u001b[38;5;241m=\u001b[39m\u001b[38;5;241m1\u001b[39m, max_zoom\u001b[38;5;241m=\u001b[39m\u001b[38;5;241m20\u001b[39m, basemap\u001b[38;5;241m=\u001b[39m\u001b[43mbasemaps\u001b[49m\u001b[38;5;241;43m.\u001b[39;49m\u001b[43mStamen\u001b[49m\u001b[38;5;241m.\u001b[39mTerrain)\n\u001b[1;32m     30\u001b[0m \u001b[38;5;66;03m# Adding markers to the map for each population's coordinates\u001b[39;00m\n\u001b[1;32m     31\u001b[0m \u001b[38;5;28;01mfor\u001b[39;00m population, coordinates_list \u001b[38;5;129;01min\u001b[39;00m coordinates_dict\u001b[38;5;241m.\u001b[39mitems():\n",
      "File \u001b[0;32m~/.local/lib/python3.11/site-packages/xyzservices/lib.py:46\u001b[0m, in \u001b[0;36mBunch.__getattr__\u001b[0;34m(self, key)\u001b[0m\n\u001b[1;32m     44\u001b[0m     \u001b[38;5;28;01mreturn\u001b[39;00m \u001b[38;5;28mself\u001b[39m\u001b[38;5;241m.\u001b[39m\u001b[38;5;21m__getitem__\u001b[39m(key)\n\u001b[1;32m     45\u001b[0m \u001b[38;5;28;01mexcept\u001b[39;00m \u001b[38;5;167;01mKeyError\u001b[39;00m \u001b[38;5;28;01mas\u001b[39;00m err:\n\u001b[0;32m---> 46\u001b[0m     \u001b[38;5;28;01mraise\u001b[39;00m \u001b[38;5;167;01mAttributeError\u001b[39;00m(key) \u001b[38;5;28;01mfrom\u001b[39;00m \u001b[38;5;21;01merr\u001b[39;00m\n",
      "\u001b[0;31mAttributeError\u001b[0m: Stamen"
     ]
    }
   ],
   "source": [
    "## HERE: plot the coordinates of the estates\n",
    "\n",
    "## PUT HERE YOUR CODE:\n"
   ]
  },
  {
   "cell_type": "code",
   "execution_count": null,
   "id": "ab11bf19",
   "metadata": {},
   "outputs": [],
   "source": []
  }
 ],
 "metadata": {
  "kernelspec": {
   "display_name": "Python 3",
   "language": "python",
   "name": "python3"
  },
  "language_info": {
   "codemirror_mode": {
    "name": "ipython",
    "version": 3
   },
   "file_extension": ".py",
   "mimetype": "text/x-python",
   "name": "python",
   "nbconvert_exporter": "python",
   "pygments_lexer": "ipython3",
   "version": "3.11.4"
  }
 },
 "nbformat": 4,
 "nbformat_minor": 5
}
